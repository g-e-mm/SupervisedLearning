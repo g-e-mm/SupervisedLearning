{
  "nbformat": 4,
  "nbformat_minor": 0,
  "metadata": {
    "colab": {
      "private_outputs": true,
      "provenance": [],
      "toc_visible": true,
      "authorship_tag": "ABX9TyOQdCyGsO78DiPd56T2EyJf",
      "include_colab_link": true
    },
    "kernelspec": {
      "name": "python3",
      "display_name": "Python 3"
    },
    "language_info": {
      "name": "python"
    }
  },
  "cells": [
    {
      "cell_type": "markdown",
      "metadata": {
        "id": "view-in-github",
        "colab_type": "text"
      },
      "source": [
        "<a href=\"https://colab.research.google.com/github/g-e-mm/SupervisedLearning/blob/main/LogisticRegression.ipynb\" target=\"_parent\"><img src=\"https://colab.research.google.com/assets/colab-badge.svg\" alt=\"Open In Colab\"/></a>"
      ]
    },
    {
      "cell_type": "markdown",
      "source": [
        "# Vaccine Usage Prediction\n",
        "\n",
        "This notebook demonstrates a complete workflow to predict whether respondents have received the H1N1 vaccine using logistic regression. Two estimation methods are used:\n",
        "\n",
        "- **Maximum Likelihood Estimation (MLE)** using `statsmodels`\n",
        "- **Stochastic Gradient Descent (SGD)** using `scikit-learn`\n",
        "\n",
        "Assume the dataset is already loaded as a pandas DataFrame in the variable `data`.\n",
        "\n",
        "The notebook contains the following sections:\n",
        "1. Exploratory Data Analysis (EDA)\n",
        "2. Data Preprocessing\n",
        "3. Model Training\n",
        "   - Logistic Regression with MLE\n",
        "   - Logistic Regression with SGD\n",
        "4. Model Evaluation\n",
        "5. Conclusions\n"
      ],
      "metadata": {
        "id": "wUckQppQvse7"
      }
    },
    {
      "cell_type": "markdown",
      "source": [
        "## Loading dataset and importing libraries\n",
        "---"
      ],
      "metadata": {
        "id": "uLI0psW6uFxY"
      }
    },
    {
      "cell_type": "code",
      "source": [
        "import numpy as np\n",
        "import pandas as pd\n",
        "import matplotlib.pyplot as plt\n",
        "import seaborn as sns\n",
        "\n",
        "from sklearn.model_selection import train_test_split, cross_val_score\n",
        "from sklearn.metrics import accuracy_score, confusion_matrix, classification_report, roc_auc_score, roc_curve\n",
        "\n",
        "# For logistic regression\n",
        "from sklearn.linear_model import SGDClassifier\n",
        "import statsmodels.api as sm\n",
        "\n",
        "# For encoding categorical variables and scaling\n",
        "from sklearn.preprocessing import StandardScaler, LabelEncoder\n",
        "\n",
        "import warnings\n",
        "warnings.filterwarnings('ignore')\n",
        "\n",
        "sns.set(style=\"whitegrid\")\n"
      ],
      "metadata": {
        "id": "5wAm-qSGuJcX"
      },
      "execution_count": null,
      "outputs": []
    },
    {
      "cell_type": "code",
      "source": [
        "from google.colab import drive\n",
        "drive.mount('/content/drive')"
      ],
      "metadata": {
        "id": "x9cVqLajvdmP"
      },
      "execution_count": null,
      "outputs": []
    },
    {
      "cell_type": "code",
      "source": [
        "path ='/content/drive/MyDrive/Data Science/Logistic Regression/h1n1_vaccine_prediction.csv'\n",
        "data = pd.read_csv(path)"
      ],
      "metadata": {
        "id": "w5GvKJYrvkHb"
      },
      "execution_count": null,
      "outputs": []
    },
    {
      "cell_type": "markdown",
      "source": [
        "## Exploratory Data Analysis\n",
        "---"
      ],
      "metadata": {
        "id": "-MgZ3xKwwKyt"
      }
    },
    {
      "cell_type": "code",
      "source": [
        "print(\"First 5 rows of the data:\")\n",
        "display(data.head())\n",
        "\n",
        "print(\"Data Information:\")\n",
        "data.info()\n",
        "\n",
        "print(\"Summary Statistics:\")\n",
        "display(data.describe())\n",
        "\n",
        "# print(\"Class distribution:\")\n",
        "# print(data['H1N1_vaccine'].value_counts())\n",
        "print(\"Missing values per column:\")\n",
        "print(data.isnull().sum())"
      ],
      "metadata": {
        "id": "ANCTBl8pue8w"
      },
      "execution_count": null,
      "outputs": []
    },
    {
      "cell_type": "markdown",
      "source": [
        "The exploratory data analysis revealed the presence of missing values across several columns, indicating the need for appropriate imputation strategies during data preprocessing."
      ],
      "metadata": {
        "id": "9m44zdgUxK17"
      }
    },
    {
      "cell_type": "markdown",
      "source": [
        "## 2. Data Preprocessing\n",
        "\n",
        "In this section, I will:\n",
        "- Handle missing values.\n",
        "- Encode categorical variables.\n",
        "- Scale the data.\n",
        "\n",
        "### 2.1 Handling Missing Values\n",
        "- For numerical variables, I'll use median imputation.\n",
        "- For categorical variables, I'll use the mode (most frequent value).\n",
        "\n",
        "### 2.2 Encoding Categorical Variables\n",
        "- Ordinal variables are encoded based on the provided order.\n",
        "- Nominal variables are encoded using one-hot encoding.\n"
      ],
      "metadata": {
        "id": "Q1_AoKDZulnq"
      }
    },
    {
      "cell_type": "code",
      "source": [
        "data_clean = data.copy()\n",
        "\n",
        "# Handling missing values\n",
        "for col in data_clean.columns:\n",
        "    if data_clean[col].dtype == 'object':\n",
        "        data_clean[col] = data_clean[col].fillna(data_clean[col].mode()[0])\n",
        "    else:\n",
        "        data_clean[col] = data_clean[col].fillna(data_clean[col].median())\n",
        "\n",
        "\n",
        "ordinal_cols = ['h1n1_worry', 'h1n1_awareness', 'is_h1n1_vacc_effective',\n",
        "                'is_h1n1_risky', 'sick_from_h1n1_vacc',\n",
        "                'is_seas_vacc_effective', 'is_seas_risky', 'sick_from_seas_vacc']\n",
        "\n",
        "for col in ordinal_cols:\n",
        "    data_clean[col] = pd.to_numeric(data_clean[col], errors='coerce')\n",
        "\n",
        "# Identify nominal categorical columns (adjust according to your dataset)\n",
        "nominal_cols = ['age_bracket', 'qualification', 'race', 'sex', 'income_level',\n",
        "                'marital_status', 'housing_status', 'employment', 'census_msa']\n",
        "\n",
        "# One-hot encode nominal categorical variables\n",
        "data_encoded = pd.get_dummies(data_clean, columns=nominal_cols, drop_first=True)\n",
        "\n",
        "cols_to_scale = [col for col in data_encoded.columns if col not in ['unique_id', 'h1n1_vaccine']]\n",
        "scaler = StandardScaler()\n",
        "data_encoded[cols_to_scale] = scaler.fit_transform(data_encoded[cols_to_scale])\n",
        "\n",
        "print(\"Data preprocessing completed. Cleaned and encoded data:\")\n",
        "display(data_encoded.head())\n"
      ],
      "metadata": {
        "id": "zIUGymLqukqn"
      },
      "execution_count": null,
      "outputs": []
    },
    {
      "cell_type": "code",
      "source": [
        "# Separate features and target\n",
        "X = data_encoded.drop(columns=['unique_id', 'h1n1_vaccine'])\n",
        "y = data_encoded['h1n1_vaccine']\n",
        "\n",
        "# Train-Test Split\n",
        "X_train, X_test, y_train, y_test = train_test_split(X, y, test_size=0.2, random_state=42, stratify=y)\n",
        "\n",
        "print(\"Training data shape:\", X_train.shape)\n",
        "print(\"Test data shape:\", X_test.shape)\n"
      ],
      "metadata": {
        "id": "C19uUa4Tuxow"
      },
      "execution_count": null,
      "outputs": []
    },
    {
      "cell_type": "markdown",
      "source": [
        "## Model Training\n",
        "---"
      ],
      "metadata": {
        "id": "EBmlqDwwuzWg"
      }
    },
    {
      "cell_type": "code",
      "source": [
        "X_train_sm = sm.add_constant(X_train)\n",
        "\n",
        "logit_model = sm.Logit(y_train, X_train_sm)\n",
        "result = logit_model.fit()\n",
        "\n",
        "print(result.summary())"
      ],
      "metadata": {
        "id": "p2c3ulQWu1M-"
      },
      "execution_count": null,
      "outputs": []
    },
    {
      "cell_type": "markdown",
      "source": [
        "- Dependent Variable: h1n1_vaccine (Binary outcome: vaccinated or not)\n",
        "\n",
        "- Pseudo R-squared: 0.2592 → Decent explanatory power for a logistic model\n",
        "\n",
        "- LLR p-value: 0.000 → The model is statistically significant overall\n",
        "\n",
        "- Converged: Yes → Optimization was successful\n",
        "\n",
        "| **Feature**                        | **Coefficient** | **P-value** | **Significant** | **Takes Vaccine?** | **Effect**                                                                 |\n",
        "|-----------------------------------|-----------------|-------------|------------------|---------------------|------------------------------------------------------------------------------|\n",
        "| dr_recc_h1n1_vacc                 | +0.7842         | 0.000       | ✅               | ✅                  | Doctor's recommendation strongly increases vaccine uptake                   |\n",
        "| is_h1n1_vacc_effective            | +0.6330         | 0.000       | ✅               | ✅                  | Belief that vaccine is effective strongly encourages vaccination            |\n",
        "| is_h1n1_risky                     | +0.4861         | 0.000       | ✅               | ✅                  | Belief that H1N1 is risky increases the likelihood of vaccination           |\n",
        "| is_health_worker                  | +0.2681         | 0.000       | ✅               | ✅                  | Health workers are more likely to be vaccinated                             |\n",
        "| age_bracket_65+                  | +0.1851         | 0.000       | ✅               | ✅                  | Elderly people are more likely to vaccinate                                 |\n",
        "| qualification_College Graduate   | +0.0970         | 0.000       | ✅               | ✅                  | Higher education boosts vaccine uptake                                      |\n",
        "| bought_face_mask                 | +0.0575         | 0.002       | ✅               | ✅                  | Cautious behavior correlates positively with vaccine uptake                 |\n",
        "| sex_Male                         | +0.0747         | 0.000       | ✅               | ✅                  | Men are slightly more likely to get vaccinated                              |\n",
        "| chronic_medic_condition          | +0.0521         | 0.000       | ✅               | ✅                  | Chronic illness increases the likelihood of vaccination                     |\n",
        "| cont_child_undr_6_mnths          | +0.0787         | 0.000       | ✅               | ✅                  | Living with young children increases vaccine uptake                         |\n",
        "| census_msa_Non-MSA               | +0.0466         | 0.020       | ✅               | ✅                  | Rural/less urban areas show slight increase in vaccination                  |\n",
        "| race_White, Hispanic, Other      | +ve             | < 0.05      | ✅               | ✅                  | These races more likely to vaccinate than reference group                   |\n",
        "| avoid_large_gatherings           | -0.1157         | 0.000       | ✅               | ❌                  | Avoidance of gatherings correlates with less likelihood of vaccination      |\n",
        "| marital_status_Not Married       | -0.0791         | 0.000       | ✅               | ❌                  | Not married people are slightly less likely to get vaccinated               |\n",
        "| no_of_children                   | -0.0516         | 0.003       | ✅               | ❌                  | More children correlates slightly with less vaccination                     |\n",
        "| qualification_< 12 Years         | -0.0519         | 0.021       | ✅               | ❌                  | Less education slightly reduces likelihood of vaccination                   |\n",
        "| dr_recc_seasonal_vacc            | -0.2038         | 0.000       | ✅               | ❌                  | Possibly people follow only one recommendation or view H1N1 differently     |\n",
        "| dr_recc_h1n1_vacc                 | +0.7842         | 0.000       | ✅               | ✅                  | Doctor's recommendation strongly increases vaccine uptake                   |\n",
        "| is_h1n1_vacc_effective            | +0.6330         | 0.000       | ✅               | ✅                  | Belief that vaccine is effective strongly encourages vaccination            |\n",
        "| is_h1n1_risky                     | +0.4861         | 0.000       | ✅               | ✅                  | Belief that H1N1 is risky increases the likelihood of vaccination           |\n",
        "| is_health_worker                  | +0.2681         | 0.000       | ✅               | ✅                  | Health workers are more likely to be vaccinated                             |\n",
        "| age_bracket_65+                  | +0.1851         | 0.000       | ✅               | ✅                  | Elderly people are more likely to vaccinate                                 |\n",
        "| qualification_College Graduate   | +0.0970         | 0.000       | ✅               | ✅                  | Higher education boosts vaccine uptake                                      |\n",
        "| bought_face_mask                 | +0.0575         | 0.002       | ✅               | ✅                  | Cautious behavior correlates positively with vaccine uptake                 |\n",
        "| sex_Male                         | +0.0747         | 0.000       | ✅               | ✅                  | Men are slightly more likely to get vaccinated                              |\n",
        "| chronic_medic_condition          | +0.0521         | 0.000       | ✅               | ✅                  | Chronic illness increases the likelihood of vaccination                     |\n",
        "| cont_child_undr_6_mnths          | +0.0787         | 0.000       | ✅               | ✅                  | Living with young children increases vaccine uptake                         |\n",
        "| census_msa_Non-MSA               | +0.0466         | 0.020       | ✅               | ✅                  | Rural/less urban areas show slight increase in vaccination                  |\n",
        "| race_White, Hispanic, Other      | +ve             | < 0.05      | ✅               | ✅                  | These races more likely to vaccinate than reference group                   |\n",
        "\n",
        "**Negative Influences**\n",
        "\n",
        "| **Feature**                        | **Coefficient** | **P-value** | **Significant** | **Takes Vaccine?** | **Effect**                                                                 |\n",
        "|-----------------------------------|-----------------|-------------|------------------|---------------------|------------------------------------------------------------------------------|\n",
        "| avoid_large_gatherings           | -0.1157         | 0.000       | ✅               | ❌                  | Avoidance of gatherings correlates with less likelihood of vaccination      |\n",
        "| marital_status_Not Married       | -0.0791         | 0.000       | ✅               | ❌                  | Not married people are slightly less likely to get vaccinated               |\n",
        "| no_of_children                   | -0.0516         | 0.003       | ✅               | ❌                  | More children correlates slightly with less vaccination                     |\n",
        "| qualification_< 12 Years         | -0.0519         | 0.021       | ✅               | ❌                  | Less education slightly reduces likelihood of vaccination                   |\n",
        "| dr_recc_seasonal_vacc            | -0.2038         | 0.000       | ✅               | ❌                  | Possibly people follow only one recommendation or view H1N1 differently     |\n"
      ],
      "metadata": {
        "id": "G6zk1goEx-Lu"
      }
    },
    {
      "cell_type": "code",
      "source": [
        "sgd_model = SGDClassifier(loss='log_loss', max_iter=1000, tol=1e-3, random_state=42)\n",
        "sgd_model.fit(X_train, y_train)\n",
        "\n",
        "print(\"SGD Logistic Regression training complete.\")"
      ],
      "metadata": {
        "id": "_VPpD99dvBju"
      },
      "execution_count": null,
      "outputs": []
    },
    {
      "cell_type": "code",
      "source": [
        "# --- Evaluate MLE Model ---\n",
        "X_test_sm = sm.add_constant(X_test)\n",
        "y_pred_prob_mle = result.predict(X_test_sm)\n",
        "y_pred_mle = (y_pred_prob_mle > 0.5).astype(int)\n",
        "\n",
        "print(\"MLE Logistic Regression Evaluation:\")\n",
        "print(\"Accuracy:\", accuracy_score(y_test, y_pred_mle))\n",
        "print(\"Confusion Matrix:\\n\", confusion_matrix(y_test, y_pred_mle))\n",
        "print(\"Classification Report:\\n\", classification_report(y_test, y_pred_mle))\n",
        "\n",
        "# ROC-AUC and ROC Curve for MLE model\n",
        "roc_auc_mle = roc_auc_score(y_test, y_pred_prob_mle)\n",
        "fpr_mle, tpr_mle, _ = roc_curve(y_test, y_pred_prob_mle)\n",
        "\n",
        "plt.figure(figsize=(6,4))\n",
        "plt.plot(fpr_mle, tpr_mle, label=f'MLE Logistic Regression (AUC = {roc_auc_mle:.2f})')\n",
        "plt.plot([0, 1], [0, 1], linestyle='--', color='gray')\n",
        "plt.xlabel('False Positive Rate')\n",
        "plt.ylabel('True Positive Rate')\n",
        "plt.title('ROC Curve - MLE Logistic Regression')\n",
        "plt.legend()\n",
        "plt.show()"
      ],
      "metadata": {
        "id": "y8n27ujTvHtB"
      },
      "execution_count": null,
      "outputs": []
    },
    {
      "cell_type": "markdown",
      "source": [
        "- ROC Curve (AUC = 0.82)\n",
        "AUC of 0.82 shows the model separates classes well.\n",
        "\n",
        "- Curve is above the diagonal, indicating performance is better than random.\n",
        "\n",
        "- Good balance across thresholds.\n",
        "\n",
        "Classification Metrics\n",
        "\n",
        "| **Metric**        | **Value** | **Interpretation**                                 |\n",
        "|-------------------|-----------|----------------------------------------------------|\n",
        "| **Accuracy**      | 0.84      | High overall correctness                          |\n",
        "| **Precision** | 0.68      | 68% of predicted vaccinated are correct           |\n",
        "| **Recall **    | 0.42      | Only 42% of actual vaccinated detected            |\n",
        "| **F1-Score **  | 0.52      | Moderate balance of precision & recall            |\n",
        "| **AUC**           | 0.82      | Strong class separation ability                   |\n",
        "- Needs improvement in recalling vaccinated individuals."
      ],
      "metadata": {
        "id": "cRLe7Xqa0HR6"
      }
    },
    {
      "cell_type": "code",
      "source": [
        "# --- Evaluate SGD Model ---\n",
        "y_pred_prob_sgd = sgd_model.decision_function(X_test)\n",
        "y_pred_sgd = sgd_model.predict(X_test)\n",
        "\n",
        "print(\"SGD Logistic Regression Evaluation:\")\n",
        "print(\"Accuracy:\", accuracy_score(y_test, y_pred_sgd))\n",
        "print(\"Confusion Matrix:\\n\", confusion_matrix(y_test, y_pred_sgd))\n",
        "print(\"Classification Report:\\n\", classification_report(y_test, y_pred_sgd))\n",
        "\n",
        "# ROC-AUC and ROC Curve for SGD model\n",
        "roc_auc_sgd = roc_auc_score(y_test, y_pred_prob_sgd)\n",
        "fpr_sgd, tpr_sgd, _ = roc_curve(y_test, y_pred_prob_sgd)\n",
        "\n",
        "plt.figure(figsize=(6,4))\n",
        "plt.plot(fpr_sgd, tpr_sgd, label=f'SGD Logistic Regression (AUC = {roc_auc_sgd:.2f})', color='green')\n",
        "plt.plot([0, 1], [0, 1], linestyle='--', color='gray')\n",
        "plt.xlabel('False Positive Rate')\n",
        "plt.ylabel('True Positive Rate')\n",
        "plt.title('ROC Curve - SGD Logistic Regression')\n",
        "plt.legend()\n",
        "plt.show()"
      ],
      "metadata": {
        "id": "qk2r-UhZvVJe"
      },
      "execution_count": null,
      "outputs": []
    },
    {
      "cell_type": "markdown",
      "source": [
        "- The ROC Curve visualizes the trade-off between the True Positive Rate (Recall) and False Positive Rate at various threshold levels.\n",
        "\n",
        "- The curve bows well above the diagonal baseline, indicating the model performs significantly better than random guessing.\n",
        "\n",
        "- AUC = 0.81 confirms that the classifier has a strong discriminatory ability to separate vaccinated vs. non-vaccinated individuals.\n",
        "\n",
        "- Though slightly lower than MLE Logistic Regression’s AUC (0.82), it’s still quite effective for classification tasks.\n",
        "\n",
        "| **Metric**        | **Value** | **Interpretation**                                 |\n",
        "|-------------------|-----------|----------------------------------------------------|\n",
        "| **Accuracy**      | 0.83      | High overall correctness                          |\n",
        "| **Precision ** | 0.66      | 66% of predicted vaccinated are correct           |\n",
        "| **Recall**    | 0.43      | Model detects 43% of actual vaccinated            |\n",
        "| **F1-Score**  | 0.52      | Balanced metric indicating moderate performance   |\n",
        "| **AUC**           | 0.81      | Strong class separation ability                   |\n"
      ],
      "metadata": {
        "id": "cRvHNApD0npj"
      }
    }
  ]
}