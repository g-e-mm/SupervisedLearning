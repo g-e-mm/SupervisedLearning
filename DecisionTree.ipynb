{
  "nbformat": 4,
  "nbformat_minor": 0,
  "metadata": {
    "colab": {
      "private_outputs": true,
      "provenance": [],
      "authorship_tag": "ABX9TyOMHqIZRQedDUB+P3rbaArw",
      "include_colab_link": true
    },
    "kernelspec": {
      "name": "python3",
      "display_name": "Python 3"
    },
    "language_info": {
      "name": "python"
    }
  },
  "cells": [
    {
      "cell_type": "markdown",
      "metadata": {
        "id": "view-in-github",
        "colab_type": "text"
      },
      "source": [
        "<a href=\"https://colab.research.google.com/github/g-e-mm/SupervisedLearning/blob/main/DecisionTree.ipynb\" target=\"_parent\"><img src=\"https://colab.research.google.com/assets/colab-badge.svg\" alt=\"Open In Colab\"/></a>"
      ]
    },
    {
      "cell_type": "markdown",
      "source": [
        "# Heart Disease Prediction\n",
        "---"
      ],
      "metadata": {
        "id": "bzXWFQeuCNVg"
      }
    },
    {
      "cell_type": "markdown",
      "source": [
        "- This project aims to predict heart disease from patient medical data using Decision Tree classification, helping in early diagnosis and prevention.\n",
        "\n",
        "- A **Decision Tree** is a flowchart-like structure where internal nodes represent features (attributes), branches represent decision rules, and each leaf node represents the outcome (target). It is one of the simplest and most interpretable classification algorithms.\n",
        "\n",
        "In this project, a **Decision Tree** will:\n",
        "- Learn patterns from the heart disease dataset.\n",
        "- Use those patterns to classify whether a person is likely to have heart disease (`target=1`) or not (`target=0`).\n",
        "- Provide visual and logical reasoning for predictions."
      ],
      "metadata": {
        "id": "y87CZBeICbbl"
      }
    },
    {
      "cell_type": "markdown",
      "source": [
        "# Loading dataset and necessary libraries"
      ],
      "metadata": {
        "id": "yKK7yNGSFYkO"
      }
    },
    {
      "cell_type": "code",
      "execution_count": null,
      "metadata": {
        "id": "WzEYO-nmCJAF"
      },
      "outputs": [],
      "source": [
        "import pandas as pd\n",
        "import numpy as np\n",
        "import matplotlib.pyplot as plt\n",
        "import seaborn as sns\n",
        "from sklearn.model_selection import train_test_split\n",
        "from sklearn.tree import DecisionTreeClassifier\n",
        "from sklearn.metrics import classification_report, confusion_matrix, accuracy_score\n",
        "from sklearn import tree"
      ]
    },
    {
      "cell_type": "code",
      "source": [
        "from google.colab import drive\n",
        "drive.mount('/content/drive')"
      ],
      "metadata": {
        "id": "N7aF00Z9Fl7x"
      },
      "execution_count": null,
      "outputs": []
    },
    {
      "cell_type": "code",
      "source": [
        "path = '/content/drive/MyDrive/Data Science/Decision Tree/HeartDisease.csv'"
      ],
      "metadata": {
        "id": "dyQSmwVuFwK2"
      },
      "execution_count": null,
      "outputs": []
    },
    {
      "cell_type": "markdown",
      "source": [
        "# Exploratory Data Analysis"
      ],
      "metadata": {
        "id": "i2ctOnS7F74e"
      }
    },
    {
      "cell_type": "code",
      "source": [
        "def load_dataset(file_path):\n",
        "  \"\"\"\n",
        "  Loads a dataset from a given file path using pandas.\n",
        "\n",
        "  Args:\n",
        "    file_path: The path to the file containing the dataset.\n",
        "\n",
        "  Returns:\n",
        "    A pandas DataFrame containing the dataset.\n",
        "  \"\"\"\n",
        "  try:\n",
        "    df = pd.read_csv(file_path)\n",
        "    return df\n",
        "  except FileNotFoundError:\n",
        "    print(f\"Error: File not found at {file_path}\")\n",
        "    return None\n",
        "\n",
        "df = load_dataset(path)"
      ],
      "metadata": {
        "id": "5o9uBrYqFlR_"
      },
      "execution_count": null,
      "outputs": []
    },
    {
      "cell_type": "code",
      "source": [
        "df.head()"
      ],
      "metadata": {
        "id": "b-HsFuEJHjoH"
      },
      "execution_count": null,
      "outputs": []
    },
    {
      "cell_type": "code",
      "source": [
        "def explore_data(data):\n",
        "  \"\"\"\n",
        "  Prints the shape and descriptive statistics of a given dataset.\n",
        "\n",
        "  Args:\n",
        "    data: A pandas DataFrame.\n",
        "  \"\"\"\n",
        "  print(\"Data Shape:\", data.shape)\n",
        "  print(\"______________________________________________________________________________\")\n",
        "  print(\"Null values:\", data.isnull().sum())\n",
        "  print(\"______________________________________________________________________________\")\n",
        "  print(\"\\nData Description:\")\n",
        "  print(data.describe())\n",
        "\n",
        "\n",
        "explore_data(data)"
      ],
      "metadata": {
        "id": "w1IvjlurF8Ut"
      },
      "execution_count": null,
      "outputs": []
    },
    {
      "cell_type": "markdown",
      "source": [
        "# Preprocessing and Train-Test Split"
      ],
      "metadata": {
        "id": "3rVV9dj1G16Q"
      }
    },
    {
      "cell_type": "code",
      "source": [
        "X = df.drop('target', axis=1)\n",
        "y = df['target']\n",
        "\n",
        "X_train, X_test, y_train, y_test = train_test_split(X, y, test_size=0.2, random_state=42)"
      ],
      "metadata": {
        "id": "AFa_athPG4-i"
      },
      "execution_count": null,
      "outputs": []
    },
    {
      "cell_type": "markdown",
      "source": [
        "# Model Train Decision Tree Classifier"
      ],
      "metadata": {
        "id": "8MBXX-eXHApo"
      }
    },
    {
      "cell_type": "code",
      "source": [
        "\n",
        "clf = DecisionTreeClassifier(random_state=42)\n",
        "clf.fit(X_train, y_train)\n",
        "y_pred = clf.predict(X_test)\n",
        "\n",
        "\n",
        "print(\"Accuracy Score:\", accuracy_score(y_test, y_pred))\n",
        "print(\"\\nClassification Report:\\n\", classification_report(y_test, y_pred))\n",
        "\n",
        "print(\"____________________________________________________________________________________________________________________________________________________________\")\n",
        "print(\"\")\n",
        "\n",
        "sns.heatmap(confusion_matrix(y_test, y_pred), annot=True, fmt=\"d\", cmap=\"Blues\")\n",
        "plt.title(\"Confusion Matrix\")\n",
        "plt.xlabel(\"Predicted\")\n",
        "plt.ylabel(\"Actual\")\n",
        "plt.show()\n",
        "\n",
        "print(\"____________________________________________________________________________________________________________________________________________________________\")\n",
        "print(\"\")\n",
        "\n",
        "plt.figure(figsize=(20,10))\n",
        "tree.plot_tree(clf, filled=True, feature_names=X.columns, class_names=[\"No Disease\", \"Disease\"])\n",
        "plt.show()\n"
      ],
      "metadata": {
        "id": "C4S_x7UWG86m"
      },
      "execution_count": null,
      "outputs": []
    },
    {
      "cell_type": "code",
      "source": [
        "def predict_heart_disease(input_data):\n",
        "    input_df = pd.DataFrame([input_data], columns=X.columns)\n",
        "    prediction = clf.predict(input_df)[0]\n",
        "    return \"🟢 No Heart Disease Detected\" if prediction == 0 else \"🔴 Heart Disease Likely\"\n",
        "\n",
        "example_input = {\n",
        "    'age': 54,\n",
        "    'gender': 1,\n",
        "    'chest_pain': 2,\n",
        "    'rest_bps': 130,\n",
        "    'cholesterol': 250,\n",
        "    'fasting_blood_sugar': 0,\n",
        "    'rest_ecg': 1,\n",
        "    'thalach': 150,\n",
        "    'exer_angina': 0,\n",
        "    'old_peak': 1.2,\n",
        "    'slope': 2,\n",
        "    'ca': 0,\n",
        "    'thalassemia': 2\n",
        "}\n",
        "\n",
        "predict_heart_disease(example_input)\n"
      ],
      "metadata": {
        "id": "Gsi7K0YzHX_5"
      },
      "execution_count": null,
      "outputs": []
    }
  ]
}