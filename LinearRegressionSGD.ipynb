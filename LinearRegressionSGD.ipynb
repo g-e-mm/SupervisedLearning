{
  "nbformat": 4,
  "nbformat_minor": 0,
  "metadata": {
    "colab": {
      "private_outputs": true,
      "provenance": [],
      "mount_file_id": "1CFOpv2OHna7MxNIJBcMY_fdRnCoTUULb",
      "authorship_tag": "ABX9TyNoR+1PykRUHQbJzd/OtqiT",
      "include_colab_link": true
    },
    "kernelspec": {
      "name": "python3",
      "display_name": "Python 3"
    },
    "language_info": {
      "name": "python"
    }
  },
  "cells": [
    {
      "cell_type": "markdown",
      "metadata": {
        "id": "view-in-github",
        "colab_type": "text"
      },
      "source": [
        "<a href=\"https://colab.research.google.com/github/g-e-mm/SupervisedLearning/blob/main/LinearRegressionSGD.ipynb\" target=\"_parent\"><img src=\"https://colab.research.google.com/assets/colab-badge.svg\" alt=\"Open In Colab\"/></a>"
      ]
    },
    {
      "cell_type": "markdown",
      "source": [
        "#Vehicle Performance Prediction by Linear Regression\n",
        "---\n",
        "using Stochastic Gradient Descent"
      ],
      "metadata": {
        "id": "k_i-VQmNVe8J"
      }
    },
    {
      "cell_type": "markdown",
      "source": [
        "- In this project, we aim to predict vehicle mileage (kilometer per liter) using technical specifications like horsepower, weight, and engine features. - We use Linear Regression to model the relationship between these features and mileage.\n",
        "- Stochastic Gradient Descent (SGD) is an optimization technique used to minimize the model's error by updating weights iteratively with small batches of data.\n",
        "- It’s especially useful for large datasets and speeds up convergence compared to standard gradient descent. SGD is chosen here for its efficiency, scalability, and ability to handle noisy or high-dimensional data, making it ideal for real-world automotive datasets."
      ],
      "metadata": {
        "id": "eC3SRlzrWf8I"
      }
    },
    {
      "cell_type": "markdown",
      "source": [
        "## Loading data and importing necessary libraries\n",
        "---\n"
      ],
      "metadata": {
        "id": "uVB6NPvoWxbt"
      }
    },
    {
      "cell_type": "code",
      "source": [
        "import pandas as pd\n",
        "import numpy as np\n",
        "import matplotlib.pyplot as plt\n",
        "import seaborn as sns\n",
        "from sklearn.model_selection import train_test_split\n",
        "from sklearn.linear_model import SGDRegressor\n",
        "from sklearn.metrics import mean_squared_error, r2_score\n",
        "from sklearn.impute import SimpleImputer\n",
        "from sklearn.linear_model import LinearRegression"
      ],
      "metadata": {
        "id": "DiPpSbB9YNEw"
      },
      "execution_count": null,
      "outputs": []
    },
    {
      "cell_type": "code",
      "source": [
        "from google.colab import drive\n",
        "drive.mount('/content/drive')"
      ],
      "metadata": {
        "id": "0DmCjUaNYQ2d"
      },
      "execution_count": null,
      "outputs": []
    },
    {
      "cell_type": "code",
      "source": [
        "path=\"/content/drive/MyDrive/IMARTICUS/Linear Regression SGD/SGDdata.csv\"\n",
        "data=pd.read_csv(path)"
      ],
      "metadata": {
        "id": "UL4jWebsYpGz"
      },
      "execution_count": null,
      "outputs": []
    },
    {
      "cell_type": "markdown",
      "source": [
        "## Exploratory Data Analysis\n",
        "---"
      ],
      "metadata": {
        "id": "xLlYNykwZDBb"
      }
    },
    {
      "cell_type": "code",
      "source": [
        "print(data.head())\n",
        "print(data.describe())\n",
        "print(data.info())"
      ],
      "metadata": {
        "id": "MFJ3n_LxY3dT"
      },
      "execution_count": null,
      "outputs": []
    },
    {
      "cell_type": "code",
      "source": [
        "plt.figure(figsize=(10, 6))\n",
        "sns.histplot(data['Kilometer_per_liter'], bins=30, kde=True)\n",
        "plt.title('Distribution of Kilometer_per_liter')\n",
        "plt.xlabel('Kilometer per Liter')\n",
        "plt.ylabel('Frequency')\n",
        "plt.show()"
      ],
      "metadata": {
        "id": "BJklukoiZQMg"
      },
      "execution_count": null,
      "outputs": []
    },
    {
      "cell_type": "markdown",
      "source": [
        "- Most cars have a mileage between 6 and 12 km/l.\n",
        "\n",
        "- There's a noticeable right skew (long tail on the right), meaning a few cars have higher mileage (above 16 km/l), but they're less frequent.\n",
        "\n",
        "- The mode (most common mileage) seems to be around 6-8 km/l."
      ],
      "metadata": {
        "id": "sIdCRHJ8kjhI"
      }
    },
    {
      "cell_type": "code",
      "source": [
        "plt.figure(figsize=(10, 6))\n",
        "sns.scatterplot(x='weight', y='Kilometer_per_liter', data=data)\n",
        "plt.title('Weight vs Kilometer_per_liter')\n",
        "plt.xlabel('Weight of Car')\n",
        "plt.ylabel('Kilometer per Liter')\n",
        "plt.show()"
      ],
      "metadata": {
        "id": "WZdAyGxzZSyF"
      },
      "execution_count": null,
      "outputs": []
    },
    {
      "cell_type": "markdown",
      "source": [
        "- Negative Correlation:\n",
        "There’s a clear downward trend — as car weight increases, mileage decreases. Heavier cars tend to be less fuel efficient.\n",
        "\n",
        "- Compact Cars (Weight < 2500 lbs):\n",
        "These have a wide mileage range, with some achieving over 18 km/l.\n",
        "\n",
        "- Mid-weight Cars (2500–3500 lbs):\n",
        "Mileage is more consistent here, generally between 8 and 14 km/l.\n",
        "\n",
        "- Heavy Cars (> 4000 lbs):\n",
        "Almost all have very low mileage (mostly under 8 km/l), confirming the inefficiency of bulky vehicles.\n",
        "\n",
        "- Outliers:\n",
        "A few heavy cars still manage decent mileage — worth investigating what makes them different (e.g., engine type, design)."
      ],
      "metadata": {
        "id": "hGIJrwcJklBk"
      }
    },
    {
      "cell_type": "markdown",
      "source": [
        "## Model building\n",
        "---"
      ],
      "metadata": {
        "id": "T1Tq-wMoZXmp"
      }
    },
    {
      "cell_type": "markdown",
      "source": [
        "**Splitting the data**"
      ],
      "metadata": {
        "id": "U3CLp5JJlBoI"
      }
    },
    {
      "cell_type": "code",
      "source": [
        "\n",
        "X = data[['cylinders', 'displacement', 'horsepower', 'weight', 'acceleration']]\n",
        "y = data['Kilometer_per_liter']\n",
        "\n",
        "X = X.replace('?', np.nan)  # This line is added to replace '?' with NaN\n",
        "imputer = SimpleImputer(strategy='mean')\n",
        "X_imputed = imputer.fit_transform(X)\n",
        "\n",
        "X_train, X_test, y_train, y_test = train_test_split(X_imputed, y, test_size=0.2, random_state=42)"
      ],
      "metadata": {
        "id": "IskE_4_mZZ6T"
      },
      "execution_count": null,
      "outputs": []
    },
    {
      "cell_type": "code",
      "source": [
        "model = LinearRegression()\n",
        "model.fit(X_train, y_train)\n",
        "y_pred = model.predict(X_test)"
      ],
      "metadata": {
        "id": "CXCK206jZjEk"
      },
      "execution_count": null,
      "outputs": []
    },
    {
      "cell_type": "code",
      "source": [
        "mse = mean_squared_error(y_test, y_pred)\n",
        "print(\"Mean Squared Error:\", mse)\n",
        "r2 = r2_score(y_test, y_pred)\n",
        "print(\"R2 Score:\", r2)"
      ],
      "metadata": {
        "id": "SdL7J2TOj2GV"
      },
      "execution_count": null,
      "outputs": []
    },
    {
      "cell_type": "markdown",
      "source": [
        "## ✅ Model Evaluation Summary\n",
        "\n",
        "- **Mean Squared Error (MSE):** `2.65`  \n",
        "  The average squared difference between predicted and actual values. A lower value indicates better performance.  \n",
        "  → √2.65 ≈ **1.63**, meaning predictions are off by about 1.63 km/l on average.\n",
        "\n",
        "- **R² Score:** `0.7272`  \n",
        "  Indicates that **72.7%** of the variance in `Kilometer_per_liter` is explained by the model.  \n",
        "  This suggests a **strong linear relationship** between features and the target variable.\n",
        "\n",
        "---\n",
        "\n",
        "## 📌 Conclusion\n",
        "\n",
        "- The model has **reasonable predictive accuracy** with **low error**.\n",
        "- It performs **well** for a linear regression approach using **Stochastic Gradient Descent (SGD)**.\n",
        "\n"
      ],
      "metadata": {
        "id": "krXERPOAlSak"
      }
    }
  ]
}